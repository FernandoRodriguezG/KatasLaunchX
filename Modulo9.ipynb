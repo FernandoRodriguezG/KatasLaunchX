{
 "cells": [
  {
   "cell_type": "markdown",
   "metadata": {},
   "source": [
    "## Modulo 9 - Funciones"
   ]
  },
  {
   "cell_type": "markdown",
   "metadata": {},
   "source": [
    "Ejercicio 1 - Trabajar con argumentos en funciones"
   ]
  },
  {
   "cell_type": "code",
   "execution_count": 3,
   "metadata": {},
   "outputs": [
    {
     "name": "stdout",
     "output_type": "stream",
     "text": [
      "Reporte de combustible:\n",
      "    Preomedio: 78.33333333333333%\n",
      "    Tanque 1: 80%\n",
      "    Tanque 2: 70%\n",
      "    Tanque 3: 85% \n",
      "    \n"
     ]
    }
   ],
   "source": [
    "def reporteComb(t1,t2,t3):\n",
    "    return f\"\"\"Reporte de combustible:\n",
    "    Preomedio: {promedio(t1,t2,t3)}%\n",
    "    Tanque 1: {t1}%\n",
    "    Tanque 2: {t2}%\n",
    "    Tanque 3: {t3}% \n",
    "    \"\"\"\n",
    "def promedio(t1,t2,t3):\n",
    "    t = (t1+t2+t3) / 3\n",
    "    return t\n",
    "\n",
    "print(reporteComb(80,70,85))"
   ]
  },
  {
   "cell_type": "markdown",
   "metadata": {},
   "source": [
    "Ejercicio 2 - Trabajo con argumentos de palabra clave"
   ]
  },
  {
   "cell_type": "code",
   "execution_count": 8,
   "metadata": {},
   "outputs": [
    {
     "name": "stdout",
     "output_type": "stream",
     "text": [
      "Reporte de mision:\n",
      "    Destino: Moon,\n",
      "    Tiempo de viaje: 76 minutos\n",
      "    Tanques: 500000\n",
      "    main -> 300000 galones \n",
      "external -> 200000 galones \n",
      "\n"
     ]
    }
   ],
   "source": [
    "def ReportMision(destino,*minutos,**tanques):\n",
    "    reporte = f\"\"\"Reporte de mision:\n",
    "    Destino: {destino},\n",
    "    Tiempo de viaje: {sum(minutos)} minutos\n",
    "    Tanques: {sum(tanques.values())}\n",
    "    \"\"\"\n",
    "    for t,cantidad in tanques.items():\n",
    "        reporte += f\"{t} -> {cantidad} galones \\n\"\n",
    "    return reporte\n",
    "\n",
    "print(ReportMision(\"Moon\", 10, 15, 51, main=300000, external=200000))"
   ]
  }
 ],
 "metadata": {
  "interpreter": {
   "hash": "2be5faf79681da6f2a61fdfdd5405d65d042280f7fba6178067603e3a2925119"
  },
  "kernelspec": {
   "display_name": "Python 3.10.2 64-bit",
   "language": "python",
   "name": "python3"
  },
  "language_info": {
   "codemirror_mode": {
    "name": "ipython",
    "version": 3
   },
   "file_extension": ".py",
   "mimetype": "text/x-python",
   "name": "python",
   "nbconvert_exporter": "python",
   "pygments_lexer": "ipython3",
   "version": "3.10.2"
  },
  "orig_nbformat": 4
 },
 "nbformat": 4,
 "nbformat_minor": 2
}
