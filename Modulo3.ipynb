{
 "cells": [
  {
   "cell_type": "markdown",
   "metadata": {},
   "source": [
    "##Modulo 3 - Logica Booleana\n"
   ]
  },
  {
   "cell_type": "code",
   "execution_count": 2,
   "metadata": {},
   "outputs": [
    {
     "name": "stdout",
     "output_type": "stream",
     "text": [
      "La velocidad del asteoride es mayor a 25\n"
     ]
    }
   ],
   "source": [
    "asteoroidVelocity = 49\n",
    "if(asteoroidVelocity > 25):\n",
    "    print(\"La velocidad del asteoride es mayor a 25\")\n",
    "else:\n",
    "    print(\"La velocidad del asteoride es permitida\")"
   ]
  },
  {
   "cell_type": "code",
   "execution_count": 1,
   "metadata": {},
   "outputs": [
    {
     "name": "stdout",
     "output_type": "stream",
     "text": [
      "No hay asteorides en el cielo\n"
     ]
    }
   ],
   "source": [
    "asteoroidVelocity = 19\n",
    "if(asteoroidVelocity >=20):\n",
    "    print(\"Busca un asteoride en el cielo!\")\n",
    "else:\n",
    "    print(\"No hay asteorides en el cielo\")"
   ]
  },
  {
   "cell_type": "markdown",
   "metadata": {},
   "source": [
    "Menos de 25m en su dimension = se quemaran al entrar en la atmosfera\n",
    "Mas de 25m pero menos de 1000m = golpeara la tierra y causara mucho dano\n",
    "Superior a 25km/hr = necesita advertencia\n",
    "Entra a la atmosfera de la tierra mayor o igual a 20km/hrs = produce rayo de luz"
   ]
  },
  {
   "cell_type": "code",
   "execution_count": 4,
   "metadata": {},
   "outputs": [
    {
     "name": "stdout",
     "output_type": "stream",
     "text": [
      "Busca un asteroide en el cielo\n"
     ]
    }
   ],
   "source": [
    "asteoroidVelocity = 25\n",
    "asteroidSize = 40\n",
    "\n",
    "if(asteoroidVelocity > 25 and asteroidSize > 25):\n",
    "    print(\"Un asteroide viene en camino\")\n",
    "elif (asteoroidVelocity >=20):\n",
    "    print(\"Busca un asteroide en el cielo\")\n",
    "elif (asteroidSize < 25):\n",
    "    print(\"No hay asteroides en el cielo\")\n",
    "else:\n",
    "    print(\"No hay asteroides en el cielo\")"
   ]
  }
 ],
 "metadata": {
  "interpreter": {
   "hash": "2be5faf79681da6f2a61fdfdd5405d65d042280f7fba6178067603e3a2925119"
  },
  "kernelspec": {
   "display_name": "Python 3.10.2 64-bit",
   "language": "python",
   "name": "python3"
  },
  "language_info": {
   "codemirror_mode": {
    "name": "ipython",
    "version": 3
   },
   "file_extension": ".py",
   "mimetype": "text/x-python",
   "name": "python",
   "nbconvert_exporter": "python",
   "pygments_lexer": "ipython3",
   "version": "3.10.2"
  },
  "orig_nbformat": 4
 },
 "nbformat": 4,
 "nbformat_minor": 2
}
